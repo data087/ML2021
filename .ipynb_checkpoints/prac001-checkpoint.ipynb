{
 "cells": [
  {
   "cell_type": "code",
   "execution_count": null,
   "metadata": {},
   "outputs": [],
   "source": [
    "import numpy as np\n",
    "import pandas as pd\n",
    "\n",
    "datapath = \"~/ML2021/data/diagnosis.data\"\n",
    "\n",
    "original_data = pd.read_csv(datapath, sep = \"\\t\", encoding = \"utf-16\", \\\n",
    "                           names = [\"temperature\",\"nausea\",\"lumbar_pain\",\"urine_pushing\",\"micturition_pains\",\"burning_of_urethra\",\"inflamation\",\"nephritis\"])\n",
    "\n",
    "print(original_data)"
   ]
  },
  {
   "cell_type": "code",
   "execution_count": null,
   "metadata": {},
   "outputs": [],
   "source": [
    "original_data.columns"
   ]
  },
  {
   "cell_type": "code",
   "execution_count": null,
   "metadata": {},
   "outputs": [],
   "source": [
    "original_data['temperature'] = original_data['temperature'].apply(lambda x: x.replace(',','.'))"
   ]
  },
  {
   "cell_type": "code",
   "execution_count": null,
   "metadata": {},
   "outputs": [],
   "source": [
    "original_data.head()"
   ]
  },
  {
   "cell_type": "code",
   "execution_count": null,
   "metadata": {},
   "outputs": [],
   "source": [
    "from sklearn import preprocessing"
   ]
  },
  {
   "cell_type": "code",
   "execution_count": null,
   "metadata": {},
   "outputs": [],
   "source": [
    "le_nausea = preprocessing.LabelEncoder()\n",
    "le_nausea.fit(original_data['nausea'])"
   ]
  },
  {
   "cell_type": "code",
   "execution_count": null,
   "metadata": {},
   "outputs": [],
   "source": [
    "dicted_data = original_data.copy()\n",
    "dicted_data['nausea'] = le_nausea.transform(original_data['nausea'])\n",
    "dicted_data.head()"
   ]
  },
  {
   "cell_type": "code",
   "execution_count": null,
   "metadata": {},
   "outputs": [],
   "source": [
    "print(type(le_nausea.classes_))"
   ]
  },
  {
   "cell_type": "code",
   "execution_count": null,
   "metadata": {},
   "outputs": [],
   "source": [
    "tmp = ['lumbar_pain','urine_pushing','micturition_pains','burning_of_urethra','inflamation','nephritis']\n",
    "les = {'nausea' : le_nausea}\n",
    "\n",
    "for x in tmp:\n",
    "    les[x] = preprocessing.LabelEncoder()\n",
    "    dicted_data[x] = lex[x].fit_transform(original_data[x])\n",
    "dicted_data.head()"
   ]
  },
  {
   "cell_type": "code",
   "execution_count": null,
   "metadata": {},
   "outputs": [],
   "source": []
  },
  {
   "cell_type": "code",
   "execution_count": null,
   "metadata": {},
   "outputs": [],
   "source": []
  }
 ],
 "metadata": {
  "kernelspec": {
   "display_name": "Python 3",
   "language": "python",
   "name": "python3"
  },
  "language_info": {
   "codemirror_mode": {
    "name": "ipython",
    "version": 3
   },
   "file_extension": ".py",
   "mimetype": "text/x-python",
   "name": "python",
   "nbconvert_exporter": "python",
   "pygments_lexer": "ipython3",
   "version": "3.6.8"
  }
 },
 "nbformat": 4,
 "nbformat_minor": 2
}
